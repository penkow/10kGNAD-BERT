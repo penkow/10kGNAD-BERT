{
 "cells": [
  {
   "cell_type": "code",
   "execution_count": 1,
   "id": "44175c97-297a-4994-96c3-a62cc44c219e",
   "metadata": {},
   "outputs": [
    {
     "name": "stdout",
     "output_type": "stream",
     "text": [
      "fatal: destination path '10kGNAD' already exists and is not an empty directory.\n"
     ]
    }
   ],
   "source": [
    "!git clone https://github.com/tblock/10kGNAD.git"
   ]
  },
  {
   "cell_type": "code",
   "execution_count": 1,
   "id": "6c730162-2176-490f-bd99-d7af5db60219",
   "metadata": {},
   "outputs": [],
   "source": [
    "import torch\n",
    "import pandas as pd\n",
    "from transformers import AutoModelForSequenceClassification\n",
    "from transformers import AutoTokenizer\n",
    "from sklearn import preprocessing\n",
    "from torch.utils.data import DataLoader\n",
    "from tqdm.auto import tqdm\n",
    "from torch.optim import AdamW\n",
    "from transformers import get_scheduler\n",
    "from torch.utils.tensorboard import SummaryWriter"
   ]
  },
  {
   "cell_type": "code",
   "execution_count": 2,
   "id": "64b68126-6540-4beb-9ffd-d6bf932538d9",
   "metadata": {},
   "outputs": [],
   "source": [
    "train = pd.read_csv('10kGNAD/train.csv', sep=';', quotechar=\"'\", header=None, names = ['labels','text'])\n",
    "test = pd.read_csv('10kGNAD/test.csv', sep=';', quotechar=\"'\", header=None, names = ['labels','text'])"
   ]
  },
  {
   "cell_type": "code",
   "execution_count": 3,
   "id": "83da9333-f0cf-4c61-9007-e2a3bd96969b",
   "metadata": {},
   "outputs": [],
   "source": [
    "labels = list(train.labels.unique())\n",
    "num_labels = len(labels)\n",
    "model_name = 'bert-base-german-cased'"
   ]
  },
  {
   "cell_type": "code",
   "execution_count": 4,
   "id": "ffabff67-348d-4502-9cb6-681c64c308ae",
   "metadata": {},
   "outputs": [
    {
     "name": "stderr",
     "output_type": "stream",
     "text": [
      "Some weights of the model checkpoint at bert-base-german-cased were not used when initializing BertForSequenceClassification: ['cls.predictions.transform.LayerNorm.weight', 'cls.predictions.transform.dense.weight', 'cls.predictions.transform.LayerNorm.bias', 'cls.predictions.transform.dense.bias', 'cls.predictions.bias', 'cls.seq_relationship.bias', 'cls.predictions.decoder.weight', 'cls.seq_relationship.weight']\n",
      "- This IS expected if you are initializing BertForSequenceClassification from the checkpoint of a model trained on another task or with another architecture (e.g. initializing a BertForSequenceClassification model from a BertForPreTraining model).\n",
      "- This IS NOT expected if you are initializing BertForSequenceClassification from the checkpoint of a model that you expect to be exactly identical (initializing a BertForSequenceClassification model from a BertForSequenceClassification model).\n",
      "Some weights of BertForSequenceClassification were not initialized from the model checkpoint at bert-base-german-cased and are newly initialized: ['classifier.bias', 'classifier.weight']\n",
      "You should probably TRAIN this model on a down-stream task to be able to use it for predictions and inference.\n"
     ]
    }
   ],
   "source": [
    "model = AutoModelForSequenceClassification.from_pretrained(model_name, num_labels=num_labels).to('cuda')"
   ]
  },
  {
   "cell_type": "code",
   "execution_count": 5,
   "id": "efd25b28-c46f-4389-8181-7ea324822577",
   "metadata": {},
   "outputs": [],
   "source": [
    "tokenizer = AutoTokenizer.from_pretrained(model_name)"
   ]
  },
  {
   "cell_type": "code",
   "execution_count": 16,
   "id": "0f0df3d7-b5e0-4d6c-9efa-8858e4cbc638",
   "metadata": {},
   "outputs": [],
   "source": [
    "tokenized_train = tokenizer(train[\"text\"].to_list(), return_tensors=\"pt\", padding='max_length', truncation=True)\n",
    "tokenized_test = tokenizer(test[\"text\"].to_list(), return_tensors=\"pt\", padding='max_length', truncation=True)"
   ]
  },
  {
   "cell_type": "code",
   "execution_count": 17,
   "id": "4491557d-6e91-4a17-be17-e3d1b034b95c",
   "metadata": {},
   "outputs": [],
   "source": [
    "le = preprocessing.LabelEncoder()\n",
    "train_tokenized_labels = le.fit_transform(train[\"labels\"])\n",
    "test_tokenized_labels = le.fit_transform(test[\"labels\"])"
   ]
  },
  {
   "cell_type": "code",
   "execution_count": 19,
   "id": "3859346e-46c6-4848-949a-f2501d8b941f",
   "metadata": {},
   "outputs": [],
   "source": [
    "tokenized_train['labels'] = torch.tensor(train_tokenized_labels)\n",
    "tokenized_test['labels'] = torch.tensor(test_tokenized_labels)"
   ]
  },
  {
   "cell_type": "code",
   "execution_count": 9,
   "id": "d245cfbb-46cd-41f7-ba23-d7c2615850b2",
   "metadata": {},
   "outputs": [],
   "source": [
    "writer = SummaryWriter()"
   ]
  },
  {
   "cell_type": "code",
   "execution_count": 10,
   "id": "3bba7ed1-9f8f-4315-9651-1aed8d61c1e0",
   "metadata": {},
   "outputs": [],
   "source": [
    "num_training_steps = len(train[\"text\"].to_list())\n",
    "num_epochs = 1\n",
    "\n",
    "optimizer = AdamW(model.parameters(), lr=5e-5)\n",
    "\n",
    "lr_scheduler = get_scheduler(\n",
    "    name=\"linear\", optimizer=optimizer, num_warmup_steps=0, num_training_steps=num_training_steps\n",
    ")"
   ]
  },
  {
   "cell_type": "code",
   "execution_count": 11,
   "id": "043fd4e8-78df-4ab2-9f82-45c52c6eadf5",
   "metadata": {
    "tags": []
   },
   "outputs": [
    {
     "data": {
      "application/json": {
       "ascii": false,
       "bar_format": null,
       "colour": null,
       "elapsed": 0.016229629516601562,
       "initial": 0,
       "n": 0,
       "ncols": null,
       "nrows": null,
       "postfix": null,
       "prefix": "",
       "rate": null,
       "total": 9245,
       "unit": "it",
       "unit_divisor": 1000,
       "unit_scale": false
      },
      "application/vnd.jupyter.widget-view+json": {
       "model_id": "42aaa34902a44e5c8c4a198cfcf281eb",
       "version_major": 2,
       "version_minor": 0
      },
      "text/plain": [
       "  0%|          | 0/9245 [00:00<?, ?it/s]"
      ]
     },
     "metadata": {},
     "output_type": "display_data"
    }
   ],
   "source": [
    "progress_bar = tqdm(range(num_training_steps))\n",
    "model.train()\n",
    "for epoch in range(num_epochs):\n",
    "    for row in range(len(train.index)):\n",
    "        model_input = dict()\n",
    "        for key in tokenized_train.keys():\n",
    "            model_input[key] = tokenized_train[key][row:row+1].to('cuda:0')\n",
    "        \n",
    "        optimizer.zero_grad()\n",
    "            \n",
    "        outputs = model(model_input['input_ids'], attention_mask=model_input['attention_mask'], labels=model_input['labels'])\n",
    "        loss = outputs.loss\n",
    "        writer.add_scalar('Loss/train', loss, row)\n",
    "        loss.backward()\n",
    "\n",
    "        optimizer.step()\n",
    "        lr_scheduler.step()\n",
    "        writer.add_scalar('LR/train', lr_scheduler.get_last_lr()[0], row)\n",
    "        progress_bar.update(1)"
   ]
  },
  {
   "cell_type": "markdown",
   "id": "491d4e59-6ddd-4519-a2e7-08c04ad69f2a",
   "metadata": {},
   "source": [
    "# Inference"
   ]
  },
  {
   "cell_type": "code",
   "execution_count": 24,
   "id": "7cba2b5c-7f62-484b-acd5-cf961ad030b4",
   "metadata": {},
   "outputs": [],
   "source": [
    "model = model.eval()"
   ]
  },
  {
   "cell_type": "code",
   "execution_count": 20,
   "id": "79bc8773-a0e8-42e5-9ba9-65c5485570ce",
   "metadata": {},
   "outputs": [],
   "source": [
    "def get_sample(idx):\n",
    "    model_input = dict()\n",
    "    for key in tokenized_train.keys():\n",
    "        model_input[key] = tokenized_test[key][idx:idx+1].to('cuda:0')\n",
    "    return model_input"
   ]
  },
  {
   "cell_type": "code",
   "execution_count": 92,
   "id": "36e06549-29e6-4e1f-b07b-70ca863859fa",
   "metadata": {},
   "outputs": [],
   "source": [
    "from torch import nn\n",
    "\n",
    "sample_idx = 23\n",
    "\n",
    "def predict_label(sample_idx):\n",
    "    sample = get_sample(sample_idx)\n",
    "    prediction = model(**sample)\n",
    "\n",
    "    probabilities = nn.functional.softmax(prediction.logits, dim=-1)\n",
    "    max_idx = probabilities.argmax()\n",
    "    pred_label = max_idx.item()\n",
    "    true_label = test_tokenized_labels[sample_idx]\n",
    "    return pred_label, true_label"
   ]
  },
  {
   "cell_type": "code",
   "execution_count": 113,
   "id": "1ff3fd4b-d214-4378-8bb5-b99626fd5333",
   "metadata": {},
   "outputs": [
    {
     "data": {
      "application/json": {
       "ascii": false,
       "bar_format": null,
       "colour": null,
       "elapsed": 0.011722087860107422,
       "initial": 0,
       "n": 0,
       "ncols": null,
       "nrows": null,
       "postfix": null,
       "prefix": "",
       "rate": null,
       "total": 1028,
       "unit": "it",
       "unit_divisor": 1000,
       "unit_scale": false
      },
      "application/vnd.jupyter.widget-view+json": {
       "model_id": "d1fa744784d142fab7913ba63e310c04",
       "version_major": 2,
       "version_minor": 0
      },
      "text/plain": [
       "  0%|          | 0/1028 [00:00<?, ?it/s]"
      ]
     },
     "metadata": {},
     "output_type": "display_data"
    }
   ],
   "source": [
    "true_list = list()\n",
    "pred_list = list()\n",
    "for idx in tqdm(range(len(test.index))):\n",
    "    true, pred = predict_label(idx)\n",
    "    true_list.append(true)\n",
    "    pred_list.append(pred)\n",
    "\n",
    "target = torch.tensor(true_list)\n",
    "preds = torch.tensor(pred_list)"
   ]
  },
  {
   "cell_type": "code",
   "execution_count": 114,
   "id": "483dcc17-9d8d-4a69-86e4-01828e7f3fca",
   "metadata": {},
   "outputs": [
    {
     "name": "stdout",
     "output_type": "stream",
     "text": [
      "Model accuracy is 0.8803501725196838\n"
     ]
    }
   ],
   "source": [
    "from torchmetrics import Accuracy\n",
    "accuracy = Accuracy()\n",
    "model_acc = accuracy(preds, target)\n",
    "print(f'Model accuracy is {model_acc}')"
   ]
  }
 ],
 "metadata": {
  "kernelspec": {
   "display_name": "Python 3",
   "language": "python",
   "name": "python3"
  },
  "language_info": {
   "codemirror_mode": {
    "name": "ipython",
    "version": 3
   },
   "file_extension": ".py",
   "mimetype": "text/x-python",
   "name": "python",
   "nbconvert_exporter": "python",
   "pygments_lexer": "ipython3",
   "version": "3.9.12"
  }
 },
 "nbformat": 4,
 "nbformat_minor": 5
}
