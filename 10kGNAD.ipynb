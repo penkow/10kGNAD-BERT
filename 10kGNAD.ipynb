{
 "cells": [
  {
   "cell_type": "code",
   "execution_count": 1,
   "id": "44175c97-297a-4994-96c3-a62cc44c219e",
   "metadata": {},
   "outputs": [
    {
     "name": "stdout",
     "output_type": "stream",
     "text": [
      "fatal: destination path '10kGNAD' already exists and is not an empty directory.\n"
     ]
    }
   ],
   "source": [
    "!git clone https://github.com/tblock/10kGNAD.git"
   ]
  },
  {
   "cell_type": "code",
   "execution_count": 1,
   "id": "6c730162-2176-490f-bd99-d7af5db60219",
   "metadata": {},
   "outputs": [],
   "source": [
    "import torch\n",
    "import pandas as pd\n",
    "from transformers import AutoModelForSequenceClassification\n",
    "from transformers import AutoTokenizer\n",
    "from sklearn import preprocessing\n",
    "from torch.utils.data import DataLoader\n",
    "from tqdm.auto import tqdm\n",
    "from torch.optim import AdamW\n",
    "from transformers import get_scheduler\n",
    "from torch.utils.tensorboard import SummaryWriter"
   ]
  },
  {
   "cell_type": "code",
   "execution_count": 2,
   "id": "64b68126-6540-4beb-9ffd-d6bf932538d9",
   "metadata": {},
   "outputs": [],
   "source": [
    "train = pd.read_csv('10kGNAD/train.csv', sep=';', quotechar=\"'\", header=None, names = ['labels','text'])\n",
    "test = pd.read_csv('10kGNAD/test.csv', sep=';', quotechar=\"'\", header=None, names = ['labels','text'])"
   ]
  },
  {
   "cell_type": "code",
   "execution_count": 3,
   "id": "83da9333-f0cf-4c61-9007-e2a3bd96969b",
   "metadata": {},
   "outputs": [],
   "source": [
    "labels = list(train.labels.unique())\n",
    "num_labels = len(labels)\n",
    "model_name = 'bert-base-german-cased'"
   ]
  },
  {
   "cell_type": "code",
   "execution_count": 4,
   "id": "ffabff67-348d-4502-9cb6-681c64c308ae",
   "metadata": {},
   "outputs": [
    {
     "name": "stderr",
     "output_type": "stream",
     "text": [
      "Some weights of the model checkpoint at bert-base-german-cased were not used when initializing BertForSequenceClassification: ['cls.predictions.transform.LayerNorm.weight', 'cls.predictions.transform.dense.weight', 'cls.predictions.transform.LayerNorm.bias', 'cls.predictions.transform.dense.bias', 'cls.predictions.bias', 'cls.seq_relationship.bias', 'cls.predictions.decoder.weight', 'cls.seq_relationship.weight']\n",
      "- This IS expected if you are initializing BertForSequenceClassification from the checkpoint of a model trained on another task or with another architecture (e.g. initializing a BertForSequenceClassification model from a BertForPreTraining model).\n",
      "- This IS NOT expected if you are initializing BertForSequenceClassification from the checkpoint of a model that you expect to be exactly identical (initializing a BertForSequenceClassification model from a BertForSequenceClassification model).\n",
      "Some weights of BertForSequenceClassification were not initialized from the model checkpoint at bert-base-german-cased and are newly initialized: ['classifier.bias', 'classifier.weight']\n",
      "You should probably TRAIN this model on a down-stream task to be able to use it for predictions and inference.\n"
     ]
    }
   ],
   "source": [
    "model = AutoModelForSequenceClassification.from_pretrained(model_name, num_labels=num_labels).to('cuda')"
   ]
  },
  {
   "cell_type": "code",
   "execution_count": 5,
   "id": "efd25b28-c46f-4389-8181-7ea324822577",
   "metadata": {},
   "outputs": [],
   "source": [
    "tokenizer = AutoTokenizer.from_pretrained(model_name)"
   ]
  },
  {
   "cell_type": "code",
   "execution_count": 16,
   "id": "0f0df3d7-b5e0-4d6c-9efa-8858e4cbc638",
   "metadata": {},
   "outputs": [],
   "source": [
    "tokenized_train = tokenizer(train[\"text\"].to_list(), return_tensors=\"pt\", padding='max_length', truncation=True)\n",
    "tokenized_test = tokenizer(test[\"text\"].to_list(), return_tensors=\"pt\", padding='max_length', truncation=True)"
   ]
  },
  {
   "cell_type": "code",
   "execution_count": 17,
   "id": "4491557d-6e91-4a17-be17-e3d1b034b95c",
   "metadata": {},
   "outputs": [],
   "source": [
    "le = preprocessing.LabelEncoder()\n",
    "train_tokenized_labels = le.fit_transform(train[\"labels\"])\n",
    "test_tokenized_labels = le.fit_transform(test[\"labels\"])"
   ]
  },
  {
   "cell_type": "code",
   "execution_count": 19,
   "id": "3859346e-46c6-4848-949a-f2501d8b941f",
   "metadata": {},
   "outputs": [],
   "source": [
    "tokenized_train['labels'] = torch.tensor(train_tokenized_labels)\n",
    "tokenized_test['labels'] = torch.tensor(test_tokenized_labels)"
   ]
  },
  {
   "cell_type": "code",
   "execution_count": 9,
   "id": "d245cfbb-46cd-41f7-ba23-d7c2615850b2",
   "metadata": {},
   "outputs": [],
   "source": [
    "writer = SummaryWriter()"
   ]
  },
  {
   "cell_type": "code",
   "execution_count": 10,
   "id": "3bba7ed1-9f8f-4315-9651-1aed8d61c1e0",
   "metadata": {},
   "outputs": [],
   "source": [
    "num_training_steps = len(train[\"text\"].to_list())\n",
    "num_epochs = 1\n",
    "\n",
    "optimizer = AdamW(model.parameters(), lr=5e-5)\n",
    "\n",
    "lr_scheduler = get_scheduler(\n",
    "    name=\"linear\", optimizer=optimizer, num_warmup_steps=0, num_training_steps=num_training_steps\n",
    ")"
   ]
  },
  {
   "cell_type": "code",
   "execution_count": 11,
   "id": "043fd4e8-78df-4ab2-9f82-45c52c6eadf5",
   "metadata": {
    "tags": []
   },
   "outputs": [
    {
     "data": {
      "application/json": {
       "ascii": false,
       "bar_format": null,
       "colour": null,
       "elapsed": 0.016229629516601562,
       "initial": 0,
       "n": 0,
       "ncols": null,
       "nrows": null,
       "postfix": null,
       "prefix": "",
       "rate": null,
       "total": 9245,
       "unit": "it",
       "unit_divisor": 1000,
       "unit_scale": false
      },
      "application/vnd.jupyter.widget-view+json": {
       "model_id": "42aaa34902a44e5c8c4a198cfcf281eb",
       "version_major": 2,
       "version_minor": 0
      },
      "text/plain": [
       "  0%|          | 0/9245 [00:00<?, ?it/s]"
      ]
     },
     "metadata": {},
     "output_type": "display_data"
    }
   ],
   "source": [
    "progress_bar = tqdm(range(num_training_steps))\n",
    "model.train()\n",
    "for epoch in range(num_epochs):\n",
    "    for row in range(len(train.index)):\n",
    "        model_input = dict()\n",
    "        for key in tokenized_train.keys():\n",
    "            model_input[key] = tokenized_train[key][row:row+1].to('cuda:0')\n",
    "        \n",
    "        optimizer.zero_grad()\n",
    "            \n",
    "        outputs = model(model_input['input_ids'], attention_mask=model_input['attention_mask'], labels=model_input['labels'])\n",
    "        loss = outputs.loss\n",
    "        writer.add_scalar('Loss/train', loss, row)\n",
    "        loss.backward()\n",
    "\n",
    "        optimizer.step()\n",
    "        lr_scheduler.step()\n",
    "        writer.add_scalar('LR/train', lr_scheduler.get_last_lr()[0], row)\n",
    "        progress_bar.update(1)"
   ]
  },
  {
   "cell_type": "markdown",
   "id": "491d4e59-6ddd-4519-a2e7-08c04ad69f2a",
   "metadata": {},
   "source": [
    "# Inference"
   ]
  },
  {
   "cell_type": "code",
   "execution_count": 24,
   "id": "7cba2b5c-7f62-484b-acd5-cf961ad030b4",
   "metadata": {},
   "outputs": [],
   "source": [
    "model = model.eval()"
   ]
  },
  {
   "cell_type": "code",
   "execution_count": 20,
   "id": "79bc8773-a0e8-42e5-9ba9-65c5485570ce",
   "metadata": {},
   "outputs": [],
   "source": [
    "def get_sample(idx):\n",
    "    model_input = dict()\n",
    "    for key in tokenized_train.keys():\n",
    "        model_input[key] = tokenized_test[key][idx:idx+1].to('cuda:0')\n",
    "    return model_input"
   ]
  },
  {
   "cell_type": "code",
   "execution_count": 92,
   "id": "36e06549-29e6-4e1f-b07b-70ca863859fa",
   "metadata": {},
   "outputs": [],
   "source": [
    "from torch import nn\n",
    "\n",
    "sample_idx = 23\n",
    "\n",
    "def predict_label(sample_idx):\n",
    "    sample = get_sample(sample_idx)\n",
    "    prediction = model(**sample)\n",
    "\n",
    "    probabilities = nn.functional.softmax(prediction.logits, dim=-1)\n",
    "    max_idx = probabilities.argmax()\n",
    "    pred_label = max_idx.item()\n",
    "    true_label = test_tokenized_labels[sample_idx]\n",
    "    return pred_label, true_label"
   ]
  },
  {
   "cell_type": "code",
   "execution_count": 113,
   "id": "1ff3fd4b-d214-4378-8bb5-b99626fd5333",
   "metadata": {},
   "outputs": [
    {
     "data": {
      "application/json": {
       "ascii": false,
       "bar_format": null,
       "colour": null,
       "elapsed": 0.011722087860107422,
       "initial": 0,
       "n": 0,
       "ncols": null,
       "nrows": null,
       "postfix": null,
       "prefix": "",
       "rate": null,
       "total": 1028,
       "unit": "it",
       "unit_divisor": 1000,
       "unit_scale": false
      },
      "application/vnd.jupyter.widget-view+json": {
       "model_id": "d1fa744784d142fab7913ba63e310c04",
       "version_major": 2,
       "version_minor": 0
      },
      "text/plain": [
       "  0%|          | 0/1028 [00:00<?, ?it/s]"
      ]
     },
     "metadata": {},
     "output_type": "display_data"
    }
   ],
   "source": [
    "true_list = list()\n",
    "pred_list = list()\n",
    "for idx in tqdm(range(len(test.index))):\n",
    "    true, pred = predict_label(idx)\n",
    "    true_list.append(true)\n",
    "    pred_list.append(pred)\n",
    "\n",
    "target = torch.tensor(true_list)\n",
    "preds = torch.tensor(pred_list)"
   ]
  },
  {
   "cell_type": "code",
   "execution_count": 114,
   "id": "483dcc17-9d8d-4a69-86e4-01828e7f3fca",
   "metadata": {},
   "outputs": [
    {
     "name": "stdout",
     "output_type": "stream",
     "text": [
      "Model accuracy is 0.8803501725196838\n"
     ]
    }
   ],
   "source": [
    "from torchmetrics import Accuracy\n",
    "accuracy = Accuracy()\n",
    "model_acc = accuracy(preds, target)\n",
    "print(f'Model accuracy is {model_acc}')"
   ]
  },
  {
   "cell_type": "code",
   "execution_count": 20,
   "id": "f0435c8a-8e43-4610-8fcf-556423a6b36e",
   "metadata": {},
   "outputs": [],
   "source": [
    "from torch.utils.data import Dataset\n",
    "class GNADDataset(Dataset):\n",
    "    def __init__(self, csv_file):\n",
    "        self.df = pd.read_csv(csv_file, sep=';', quotechar=\"'\", header=None, names = ['labels','text'])\n",
    "\n",
    "    def __len__(self):\n",
    "        return len(self.df.index)\n",
    "\n",
    "    def __getitem__(self, idx):\n",
    "        return self.df.iloc[0].to_dict()"
   ]
  },
  {
   "cell_type": "code",
   "execution_count": 21,
   "id": "3eb997e8-6b36-4d40-8bc2-7fb1dc1acb1f",
   "metadata": {},
   "outputs": [],
   "source": [
    "train = GNADDataset('10kGNAD/train.csv')"
   ]
  },
  {
   "cell_type": "code",
   "execution_count": 22,
   "id": "9d459a1f-5da2-4256-b9f1-3d33e719cb6f",
   "metadata": {},
   "outputs": [
    {
     "data": {
      "text/plain": [
       "<__main__.GNADDataset at 0x7f9be05e8220>"
      ]
     },
     "execution_count": 22,
     "metadata": {},
     "output_type": "execute_result"
    }
   ],
   "source": [
    "train"
   ]
  },
  {
   "cell_type": "code",
   "execution_count": 23,
   "id": "993ff3e1-04c0-4d9f-b353-eff123882896",
   "metadata": {},
   "outputs": [
    {
     "ename": "AttributeError",
     "evalue": "'GNADDataset' object has no attribute 'map'",
     "output_type": "error",
     "traceback": [
      "\u001b[0;31m---------------------------------------------------------------------------\u001b[0m",
      "\u001b[0;31mAttributeError\u001b[0m                            Traceback (most recent call last)",
      "Input \u001b[0;32mIn [23]\u001b[0m, in \u001b[0;36m<cell line: 5>\u001b[0;34m()\u001b[0m\n\u001b[1;32m      1\u001b[0m \u001b[38;5;28;01mdef\u001b[39;00m \u001b[38;5;21mtokenize_dataset\u001b[39m(data):\n\u001b[1;32m      2\u001b[0m     \u001b[38;5;66;03m# Keys of the returned dictionary will be added to the dataset as columns\u001b[39;00m\n\u001b[1;32m      3\u001b[0m     \u001b[38;5;28;01mreturn\u001b[39;00m tokenizer(data[\u001b[38;5;124m\"\u001b[39m\u001b[38;5;124msentence\u001b[39m\u001b[38;5;124m\"\u001b[39m], padding\u001b[38;5;241m=\u001b[39m\u001b[38;5;124m'\u001b[39m\u001b[38;5;124mmax_length\u001b[39m\u001b[38;5;124m'\u001b[39m)\n\u001b[0;32m----> 5\u001b[0m train_tokenized \u001b[38;5;241m=\u001b[39m \u001b[43mtrain\u001b[49m\u001b[38;5;241;43m.\u001b[39;49m\u001b[43mmap\u001b[49m(tokenize_dataset)\n",
      "\u001b[0;31mAttributeError\u001b[0m: 'GNADDataset' object has no attribute 'map'"
     ]
    }
   ],
   "source": [
    "def tokenize_dataset(data):\n",
    "    # Keys of the returned dictionary will be added to the dataset as columns\n",
    "    return tokenizer(data[\"sentence\"], padding='max_length')\n",
    "\n",
    "train_tokenized = train.map(tokenize_dataset)"
   ]
  },
  {
   "cell_type": "code",
   "execution_count": 24,
   "id": "da914294-6147-4982-acfd-87793fedfdd2",
   "metadata": {},
   "outputs": [],
   "source": [
    "from torch.utils.data import DataLoader\n",
    "train = DataLoader(train, batch_size=2)"
   ]
  },
  {
   "cell_type": "code",
   "execution_count": 25,
   "id": "5238c936-1f2a-473b-977b-addf5fdaed22",
   "metadata": {},
   "outputs": [
    {
     "name": "stdout",
     "output_type": "stream",
     "text": [
      "{'labels': ['Sport', 'Sport'], 'text': ['21-Jähriger fällt wohl bis Saisonende aus. Wien – Rapid muss wohl bis Saisonende auf Offensivspieler Thomas Murg verzichten. Der im Winter aus Ried gekommene 21-Jährige erlitt beim 0:4-Heimdebakel gegen Admira Wacker Mödling am Samstag einen Teilriss des Innenbandes im linken Knie, wie eine Magnetresonanz-Untersuchung am Donnerstag ergab. Murg erhielt eine Schiene, muss aber nicht operiert werden. Dennoch steht ihm eine mehrwöchige Pause bevor.', '21-Jähriger fällt wohl bis Saisonende aus. Wien – Rapid muss wohl bis Saisonende auf Offensivspieler Thomas Murg verzichten. Der im Winter aus Ried gekommene 21-Jährige erlitt beim 0:4-Heimdebakel gegen Admira Wacker Mödling am Samstag einen Teilriss des Innenbandes im linken Knie, wie eine Magnetresonanz-Untersuchung am Donnerstag ergab. Murg erhielt eine Schiene, muss aber nicht operiert werden. Dennoch steht ihm eine mehrwöchige Pause bevor.']}\n"
     ]
    }
   ],
   "source": [
    "for a in train:\n",
    "    print(a)\n",
    "    break"
   ]
  },
  {
   "cell_type": "code",
   "execution_count": 24,
   "id": "3950b570-75eb-40f1-88b3-f0216d94ca35",
   "metadata": {},
   "outputs": [
    {
     "name": "stderr",
     "output_type": "stream",
     "text": [
      "Reusing dataset glue (/home/nikolay/.cache/huggingface/datasets/glue/cola/1.0.0/dacbe3125aa31d7f70367a07a8a9e72a5a0bfeb5fc42e75c9db75b96da6053ad)\n"
     ]
    },
    {
     "data": {
      "application/json": {
       "ascii": false,
       "bar_format": null,
       "colour": null,
       "elapsed": 0.011591672897338867,
       "initial": 0,
       "n": 0,
       "ncols": null,
       "nrows": null,
       "postfix": null,
       "prefix": "",
       "rate": null,
       "total": 3,
       "unit": "it",
       "unit_divisor": 1000,
       "unit_scale": false
      },
      "application/vnd.jupyter.widget-view+json": {
       "model_id": "b9f9f6ddd0f5418495d964ded9ae6316",
       "version_major": 2,
       "version_minor": 0
      },
      "text/plain": [
       "  0%|          | 0/3 [00:00<?, ?it/s]"
      ]
     },
     "metadata": {},
     "output_type": "display_data"
    }
   ],
   "source": [
    "from torch.utils.data import DataLoader\n",
    "from datasets import load_dataset\n",
    "\n",
    "dataset = load_dataset(\"glue\", \"cola\")\n",
    "dataset = dataset[\"train\"]  # Just take the training split for now"
   ]
  },
  {
   "cell_type": "code",
   "execution_count": 25,
   "id": "20ac43a7-e545-4499-9304-d7dae60635fa",
   "metadata": {},
   "outputs": [
    {
     "data": {
      "text/plain": [
       "Dataset({\n",
       "    features: ['sentence', 'label', 'idx'],\n",
       "    num_rows: 8551\n",
       "})"
      ]
     },
     "execution_count": 25,
     "metadata": {},
     "output_type": "execute_result"
    }
   ],
   "source": [
    "dataset"
   ]
  },
  {
   "cell_type": "code",
   "execution_count": 26,
   "id": "00ff959d-8040-4b50-9b45-8986a9db4cad",
   "metadata": {},
   "outputs": [
    {
     "name": "stdout",
     "output_type": "stream",
     "text": [
      "{'sentence': \"Our friends won't buy this analysis, let alone the next one we propose.\", 'label': 1, 'idx': 0}\n",
      "{'sentence': \"One more pseudo generalization and I'm giving up.\", 'label': 1, 'idx': 1}\n",
      "{'sentence': \"One more pseudo generalization or I'm giving up.\", 'label': 1, 'idx': 2}\n",
      "{'sentence': 'The more we study verbs, the crazier they get.', 'label': 1, 'idx': 3}\n",
      "{'sentence': 'Day by day the facts are getting murkier.', 'label': 1, 'idx': 4}\n",
      "{'sentence': \"I'll fix you a drink.\", 'label': 1, 'idx': 5}\n",
      "{'sentence': 'Fred watered the plants flat.', 'label': 1, 'idx': 6}\n",
      "{'sentence': 'Bill coughed his way out of the restaurant.', 'label': 1, 'idx': 7}\n",
      "{'sentence': \"We're dancing the night away.\", 'label': 1, 'idx': 8}\n",
      "{'sentence': 'Herman hammered the metal flat.', 'label': 1, 'idx': 9}\n",
      "{'sentence': 'The critics laughed the play off the stage.', 'label': 1, 'idx': 10}\n"
     ]
    }
   ],
   "source": [
    "for idx, entry in enumerate(dataset):\n",
    "    print(entry)\n",
    "    if idx == 10:\n",
    "        break"
   ]
  },
  {
   "cell_type": "code",
   "execution_count": 27,
   "id": "23fad217-7512-471d-b9ab-6002b3fc91b6",
   "metadata": {},
   "outputs": [
    {
     "name": "stderr",
     "output_type": "stream",
     "text": [
      "Loading cached processed dataset at /home/nikolay/.cache/huggingface/datasets/glue/cola/1.0.0/dacbe3125aa31d7f70367a07a8a9e72a5a0bfeb5fc42e75c9db75b96da6053ad/cache-bd51514514288f6b.arrow\n"
     ]
    }
   ],
   "source": [
    "def tokenize_dataset(data):\n",
    "    # Keys of the returned dictionary will be added to the dataset as columns\n",
    "    return tokenizer(data[\"sentence\"], padding='max_length')\n",
    "\n",
    "tokenized_datasets = dataset.map(tokenize_dataset)"
   ]
  },
  {
   "cell_type": "code",
   "execution_count": 28,
   "id": "403242a3-7ff7-499c-a379-92502d4e5b3c",
   "metadata": {},
   "outputs": [],
   "source": [
    "tokenized_datasets = tokenized_datasets.remove_columns([\"sentence\"])"
   ]
  },
  {
   "cell_type": "code",
   "execution_count": 29,
   "id": "4ffd337c-8d46-4461-89d5-1344e1a5c59e",
   "metadata": {},
   "outputs": [
    {
     "data": {
      "text/plain": [
       "Dataset({\n",
       "    features: ['label', 'idx', 'input_ids', 'token_type_ids', 'attention_mask'],\n",
       "    num_rows: 8551\n",
       "})"
      ]
     },
     "execution_count": 29,
     "metadata": {},
     "output_type": "execute_result"
    }
   ],
   "source": [
    "tokenized_datasets"
   ]
  },
  {
   "cell_type": "code",
   "execution_count": 30,
   "id": "643f55fd-f1db-43b2-a0b8-a42fabc3da4f",
   "metadata": {},
   "outputs": [
    {
     "name": "stderr",
     "output_type": "stream",
     "text": [
      "Loading cached shuffled indices for dataset at /home/nikolay/.cache/huggingface/datasets/glue/cola/1.0.0/dacbe3125aa31d7f70367a07a8a9e72a5a0bfeb5fc42e75c9db75b96da6053ad/cache-6679088df30a817f.arrow\n"
     ]
    }
   ],
   "source": [
    "small_train_dataset = tokenized_datasets.shuffle(seed=42).select(range(1000))\n",
    "train_dataloader = DataLoader(small_train_dataset, batch_size=1)"
   ]
  },
  {
   "cell_type": "code",
   "execution_count": 39,
   "id": "5593e84d-a468-4471-949d-f27208c53bbf",
   "metadata": {},
   "outputs": [
    {
     "data": {
      "text/plain": [
       "tensor([[0., 0., 0., 0., 0., 0., 0., 0., 0., 0., 0., 0., 0., 0., 0., 0., 0., 0., 0., 0., 0., 0., 0., 0.,\n",
       "         0., 0., 0., 0., 0., 0., 0., 0., 0., 0., 0., 0., 0., 0., 0., 0., 0., 0., 0., 0., 0., 0., 0., 0.,\n",
       "         0., 0., 0., 0., 0., 0., 0., 0., 0., 0., 0., 0., 0., 0., 0., 0., 0., 0., 0., 0., 0., 0., 0., 0.,\n",
       "         0., 0., 0., 0., 0., 0., 0., 0., 0., 0., 0., 0., 0., 0., 0., 0., 0., 0., 0., 0., 0., 0., 0., 0.,\n",
       "         0., 0., 0., 0., 0., 0., 0., 0., 0., 0., 0., 0., 0., 0., 0., 0., 0., 0., 0., 0., 0., 0., 0., 0.,\n",
       "         0., 0., 0., 0., 0., 0., 0., 0., 0., 0., 0., 0., 0., 0., 0., 0., 0., 0., 0., 0., 0., 0., 0., 0.,\n",
       "         0., 0., 0., 0., 0., 0., 0., 0., 0., 0., 0., 0., 0., 0., 0., 0., 0., 0., 0., 0., 0., 0., 0., 0.,\n",
       "         0., 0., 0., 0., 0., 0., 0., 0., 0., 0., 0., 0., 0., 0., 0., 0., 0., 0., 0., 0., 0., 0., 0., 0.,\n",
       "         0., 0., 0., 0., 0., 0., 0., 0., 0., 0., 0., 0., 0., 0., 0., 0., 0., 0., 0., 0., 0., 0., 0., 0.,\n",
       "         0., 0., 0., 0., 0., 0., 0., 0., 0., 0., 0., 0., 0., 0., 0., 0., 0., 0., 0., 0., 0., 0., 0., 0.,\n",
       "         0., 0., 0., 0., 0., 0., 0., 0., 0., 0., 0., 0., 0., 0., 0., 0., 0., 0., 0., 0., 0., 0., 0., 0.,\n",
       "         0., 0., 0., 0., 0., 0., 0., 0., 0., 0., 0., 0., 0., 0., 0., 0., 0., 0., 0., 0., 0., 0., 0., 0.,\n",
       "         0., 0., 0., 0., 0., 0., 0., 0., 0., 0., 0., 0., 0., 0., 0., 0., 0., 0., 0., 0., 0., 0., 0., 0.,\n",
       "         0., 0., 0., 0., 0., 0., 0., 0., 0., 0., 0., 0., 0., 0., 0., 0., 0., 0., 0., 0., 0., 0., 0., 0.,\n",
       "         0., 0., 0., 0., 0., 0., 0., 0., 0., 0., 0., 0., 0., 0., 0., 0., 0., 0., 0., 0., 0., 0., 0., 0.,\n",
       "         0., 0., 0., 0., 0., 0., 0., 0., 0., 0., 0., 0., 0., 0., 0., 0., 0., 0., 0., 0., 0., 0., 0., 0.,\n",
       "         0., 0., 0., 0., 0., 0., 0., 0., 0., 0., 0., 0., 0., 0., 0., 0., 0., 0., 0., 0., 0., 0., 0., 0.,\n",
       "         0., 0., 0., 0., 0., 0., 0., 0., 0., 0., 0., 0., 0., 0., 0., 0., 0., 0., 0., 0., 0., 0., 0., 0.,\n",
       "         0., 0., 0., 0., 0., 0., 0., 0., 0., 0., 0., 0., 0., 0., 0., 0., 0., 0., 0., 0., 0., 0., 0., 0.,\n",
       "         0., 0., 0., 0., 0., 0., 0., 0., 0., 0., 0., 0., 0., 0., 0., 0., 0., 0., 0., 0., 0., 0., 0., 0.,\n",
       "         0., 0., 0., 0., 0., 0., 0., 0., 0., 0., 0., 0., 0., 0., 0., 0., 0., 0., 0., 0., 0., 0., 0., 0.,\n",
       "         0., 0., 0., 0., 0., 0., 0., 0.]], device='cuda:0')"
      ]
     },
     "execution_count": 39,
     "metadata": {},
     "output_type": "execute_result"
    }
   ],
   "source": [
    "torch.zeros([1, 512]).to('cuda')"
   ]
  },
  {
   "cell_type": "code",
   "execution_count": null,
   "id": "c2c3ec39-f607-45d4-a6a7-270a8d70dc35",
   "metadata": {},
   "outputs": [],
   "source": []
  }
 ],
 "metadata": {
  "kernelspec": {
   "display_name": "Python 3",
   "language": "python",
   "name": "python3"
  },
  "language_info": {
   "codemirror_mode": {
    "name": "ipython",
    "version": 3
   },
   "file_extension": ".py",
   "mimetype": "text/x-python",
   "name": "python",
   "nbconvert_exporter": "python",
   "pygments_lexer": "ipython3",
   "version": "3.9.12"
  }
 },
 "nbformat": 4,
 "nbformat_minor": 5
}
